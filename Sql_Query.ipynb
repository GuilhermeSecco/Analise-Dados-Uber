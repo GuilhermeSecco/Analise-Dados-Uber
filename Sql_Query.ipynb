{
 "cells": [
  {
   "cell_type": "code",
   "execution_count": 1,
   "id": "b05c4ec9-1b19-4bc5-aff6-822f067c9c5f",
   "metadata": {},
   "outputs": [],
   "source": [
    "#Importando as configurações de Conexão"
   ]
  },
  {
   "cell_type": "code",
   "execution_count": 2,
   "id": "7e7bee5e-f5ab-4005-a76e-3fd3e84a3a26",
   "metadata": {},
   "outputs": [],
   "source": [
    "import Connection"
   ]
  },
  {
   "cell_type": "code",
   "execution_count": 3,
   "id": "330bd4fe-225b-41c4-9729-0585d7c28bf5",
   "metadata": {},
   "outputs": [],
   "source": [
    "#Instalando o Conector Mysql"
   ]
  },
  {
   "cell_type": "code",
   "execution_count": 4,
   "id": "3f3927da-ef32-4bc1-8db6-e44b57bb8867",
   "metadata": {},
   "outputs": [
    {
     "name": "stdout",
     "output_type": "stream",
     "text": [
      "Requirement already satisfied: mysql-connector-python in c:\\users\\guilh\\appdata\\local\\programs\\python\\python312\\lib\\site-packages (9.4.0)\n",
      "Note: you may need to restart the kernel to use updated packages.\n"
     ]
    },
    {
     "name": "stderr",
     "output_type": "stream",
     "text": [
      "\n",
      "[notice] A new release of pip is available: 25.1.1 -> 25.2\n",
      "[notice] To update, run: python.exe -m pip install --upgrade pip\n"
     ]
    }
   ],
   "source": [
    "pip install mysql-connector-python"
   ]
  },
  {
   "cell_type": "code",
   "execution_count": 5,
   "id": "50c78dca-b323-4bea-bdfe-90347260d438",
   "metadata": {},
   "outputs": [],
   "source": [
    "#Importando Bibliotecas"
   ]
  },
  {
   "cell_type": "code",
   "execution_count": 6,
   "id": "2a7b8ed8-69eb-45f3-bd1d-a107d7436e8e",
   "metadata": {},
   "outputs": [],
   "source": [
    "import mysql.connector as sql"
   ]
  },
  {
   "cell_type": "code",
   "execution_count": 7,
   "id": "4e687c98-a702-4b84-99b2-e05aa4dcca46",
   "metadata": {},
   "outputs": [],
   "source": [
    "#Conectando com o Servidor MySQL"
   ]
  },
  {
   "cell_type": "code",
   "execution_count": 8,
   "id": "cbfe4169-0447-4af1-aec8-d24cb80da28c",
   "metadata": {},
   "outputs": [],
   "source": [
    "conexao = sql.CMySQLConnection(host='localhost',\n",
    "                                   user=Connection.User(),\n",
    "                                   password=Connection.Password(),\n",
    "                                   database='uber')"
   ]
  },
  {
   "cell_type": "code",
   "execution_count": 9,
   "id": "7cc1ecca-5028-451e-a89c-e557a79f4664",
   "metadata": {},
   "outputs": [],
   "source": [
    "cursor = conexao.cursor()"
   ]
  },
  {
   "cell_type": "code",
   "execution_count": 10,
   "id": "dd62a4b3-f90a-44fd-82df-52fce482dce7",
   "metadata": {},
   "outputs": [],
   "source": [
    "#Total de Corridas por Dia da Semana"
   ]
  },
  {
   "cell_type": "code",
   "execution_count": 11,
   "id": "edb948d1-7a69-4939-b142-ae464ecd1784",
   "metadata": {},
   "outputs": [
    {
     "name": "stdout",
     "output_type": "stream",
     "text": [
      "Dia: Monday, Total de corridas: 21644\n",
      "Dia: Saturday, Total de corridas: 21542\n",
      "Dia: Wednesday, Total de corridas: 21413\n",
      "Dia: Sunday, Total de corridas: 21398\n",
      "Dia: Friday, Total de corridas: 21397\n",
      "Dia: Tuesday, Total de corridas: 21391\n",
      "Dia: Thursday, Total de corridas: 21215\n"
     ]
    }
   ],
   "source": [
    "query = \"select dayname(dia), count(idCorrida) from corridas \\\n",
    "group by dayname(dia) \\\n",
    "order by count(idCorrida) desc;\"\n",
    "cursor.execute(query)\n",
    "resultados = cursor.fetchall()\n",
    "for linha in resultados:\n",
    "    print(f\"Dia: {linha[0]}, Total de corridas: {linha[1]}\")"
   ]
  },
  {
   "cell_type": "code",
   "execution_count": 12,
   "id": "d15a88f2-6567-45d6-9dd7-2e9d20d04e5f",
   "metadata": {},
   "outputs": [],
   "source": [
    "#Os cinco dias com a maior quantidade de corridas"
   ]
  },
  {
   "cell_type": "code",
   "execution_count": 13,
   "id": "a17c2334-6085-43ad-9990-0abe32e77bb4",
   "metadata": {},
   "outputs": [
    {
     "name": "stdout",
     "output_type": "stream",
     "text": [
      "Dia: 2024-11-16, Total de corridas: 462\n",
      "Dia: 2024-05-09, Total de corridas: 456\n",
      "Dia: 2024-09-18, Total de corridas: 456\n",
      "Dia: 2024-01-26, Total de corridas: 452\n",
      "Dia: 2024-02-06, Total de corridas: 452\n"
     ]
    }
   ],
   "source": [
    "query = \"select dia, count(idCorrida) from corridas \\\n",
    "group by Dia \\\n",
    "order by count(idCorrida) desc \\\n",
    "limit 5;\"\n",
    "cursor.execute(query)\n",
    "resultados = cursor.fetchall()\n",
    "for linha in resultados:\n",
    "    print(f\"Dia: {linha[0]}, Total de corridas: {linha[1]}\")"
   ]
  },
  {
   "cell_type": "code",
   "execution_count": 14,
   "id": "75737212-9540-4d99-af25-a6379bb27d15",
   "metadata": {},
   "outputs": [],
   "source": [
    "#Horario de Pico"
   ]
  },
  {
   "cell_type": "code",
   "execution_count": 15,
   "id": "4ba66c07-db32-4153-9e56-742a8475329a",
   "metadata": {},
   "outputs": [
    {
     "name": "stdout",
     "output_type": "stream",
     "text": [
      "Hora: 18, Total de corridas: 12397\n",
      "Hora: 19, Total de corridas: 11047\n",
      "Hora: 17, Total de corridas: 11044\n"
     ]
    }
   ],
   "source": [
    "query = \"select hour(Horario), count(idCorrida) from corridas \\\n",
    "group by hour(Horario) \\\n",
    "order by count(idCorrida) desc \\\n",
    "limit 3;\"\n",
    "cursor.execute(query)\n",
    "resultados = cursor.fetchall()\n",
    "for linha in resultados:\n",
    "    print(f\"Hora: {linha[0]}, Total de corridas: {linha[1]}\")"
   ]
  },
  {
   "cell_type": "code",
   "execution_count": 16,
   "id": "226bcbc4-c611-4a4b-bff0-30e48794f191",
   "metadata": {},
   "outputs": [],
   "source": [
    "#Preço médio das viagens"
   ]
  },
  {
   "cell_type": "code",
   "execution_count": 17,
   "id": "387e6be0-afc9-4f2a-867c-f796bdc26e2c",
   "metadata": {},
   "outputs": [
    {
     "name": "stdout",
     "output_type": "stream",
     "text": [
      "Preço médio da viagem: 508.2959\n"
     ]
    }
   ],
   "source": [
    "query = \"select avg(valorViagem) from corridas;\"\n",
    "cursor.execute(query)\n",
    "resultados = cursor.fetchall()\n",
    "for linha in resultados:\n",
    "    print(f\"Preço médio da viagem: {linha[0]}\")"
   ]
  },
  {
   "cell_type": "code",
   "execution_count": 18,
   "id": "a3ae79c3-7801-4fe2-8659-a9c8440cafba",
   "metadata": {},
   "outputs": [],
   "source": [
    "#Distância média das viagens"
   ]
  },
  {
   "cell_type": "code",
   "execution_count": 19,
   "id": "057053bd-e37c-4454-b567-9b844b3c8f80",
   "metadata": {},
   "outputs": [
    {
     "name": "stdout",
     "output_type": "stream",
     "text": [
      "Distancia média das viagens: 24.6434 Km\n"
     ]
    }
   ],
   "source": [
    "query = \"select avg(distanciaViagem) from corridas;\"\n",
    "cursor.execute(query)\n",
    "resultados = cursor.fetchall()\n",
    "for linha in resultados:\n",
    "    print(f\"Distancia média das viagens: {linha[0]}\",\"Km\")"
   ]
  },
  {
   "cell_type": "code",
   "execution_count": 20,
   "id": "57fa12e4-38a8-49e9-b686-62055e714283",
   "metadata": {},
   "outputs": [],
   "source": [
    "#Locais de inicio mais comuns"
   ]
  },
  {
   "cell_type": "code",
   "execution_count": 21,
   "id": "6c64abf8-562a-43ef-a072-57277a4cf419",
   "metadata": {},
   "outputs": [
    {
     "name": "stdout",
     "output_type": "stream",
     "text": [
      "Local de inicio: Khandsa, Total de corridas: 949\n",
      "Local de inicio: Barakhamba Road, Total de corridas: 946\n",
      "Local de inicio: Saket, Total de corridas: 931\n",
      "Local de inicio: Badarpur, Total de corridas: 921\n",
      "Local de inicio: Pragati Maidan, Total de corridas: 920\n"
     ]
    }
   ],
   "source": [
    "query = \"select localInicio, count(idCorrida) from corridas \\\n",
    "group by localInicio \\\n",
    "order by count(idCorrida) desc \\\n",
    "limit 5;\"\n",
    "cursor.execute(query)\n",
    "resultados = cursor.fetchall()\n",
    "for linha in resultados:\n",
    "    print(f\"Local de inicio: {linha[0]}, Total de corridas: {linha[1]}\")"
   ]
  },
  {
   "cell_type": "code",
   "execution_count": 22,
   "id": "85f1bdcb-264a-4bf4-8780-af268d7ca739",
   "metadata": {},
   "outputs": [],
   "source": [
    "#Locais de chegada mais comuns"
   ]
  },
  {
   "cell_type": "code",
   "execution_count": 23,
   "id": "fe3104e6-4f46-47df-a119-bb57ecbaa833",
   "metadata": {
    "scrolled": true
   },
   "outputs": [
    {
     "name": "stdout",
     "output_type": "stream",
     "text": [
      "Local de chegada: Ashram, Total de corridas: 936\n",
      "Local de chegada: Basai Dhankot, Total de corridas: 917\n",
      "Local de chegada: Lok Kalyan Marg, Total de corridas: 916\n",
      "Local de chegada: Narsinghpur, Total de corridas: 913\n",
      "Local de chegada: Cyber Hub, Total de corridas: 912\n"
     ]
    }
   ],
   "source": [
    "query = \"select localFim, count(idCorrida) from corridas \\\n",
    "group by localFim \\\n",
    "order by count(idCorrida) desc \\\n",
    "limit 5;\"\n",
    "cursor.execute(query)\n",
    "resultados = cursor.fetchall()\n",
    "for linha in resultados:\n",
    "    print(f\"Local de chegada: {linha[0]}, Total de corridas: {linha[1]}\")"
   ]
  },
  {
   "cell_type": "code",
   "execution_count": 24,
   "id": "05ef92f2-4ec9-439a-8288-5c66db84f695",
   "metadata": {},
   "outputs": [],
   "source": [
    "#Tipo de veículo, total de corridas e avaliação do veículo"
   ]
  },
  {
   "cell_type": "code",
   "execution_count": 25,
   "id": "6eeac635-41ee-42db-a4c1-2003a1f81bbd",
   "metadata": {
    "scrolled": true
   },
   "outputs": [
    {
     "name": "stdout",
     "output_type": "stream",
     "text": [
      "Veículo: Auto, Total de corridas: 37419, Avaliação do veículo: 4.2318\n",
      "Veículo: Go Mini, Total de corridas: 29806, Avaliação do veículo: 4.2253\n",
      "Veículo: Go Sedan, Total de corridas: 27141, Avaliação do veículo: 4.2297\n",
      "Veículo: Bike, Total de corridas: 22517, Avaliação do veículo: 4.2312\n",
      "Veículo: Premier Sedan, Total de corridas: 18111, Avaliação do veículo: 4.2368\n",
      "Veículo: eBike, Total de corridas: 10557, Avaliação do veículo: 4.2227\n",
      "Veículo: Uber XL, Total de corridas: 4449, Avaliação do veículo: 4.2289\n"
     ]
    }
   ],
   "source": [
    "query = \"select veiculo, count(idCorrida), avg(notaMotorista) from corridas \\\n",
    "group by veiculo \\\n",
    "order by count(idCorrida) desc;\"\n",
    "cursor.execute(query)\n",
    "resultados = cursor.fetchall()\n",
    "for linha in resultados:\n",
    "    print(f\"Veículo: {linha[0]}, Total de corridas: {linha[1]}, Avaliação do veículo: {linha[2]}\")"
   ]
  },
  {
   "cell_type": "code",
   "execution_count": 26,
   "id": "e48048d6-6d95-49fd-9f8d-1d91565ba86d",
   "metadata": {},
   "outputs": [],
   "source": [
    "#Cancelamentos pelo passageiro"
   ]
  },
  {
   "cell_type": "code",
   "execution_count": 27,
   "id": "086f080d-c2be-4daa-8ddd-8a3bbbc7d558",
   "metadata": {},
   "outputs": [
    {
     "name": "stdout",
     "output_type": "stream",
     "text": [
      "Motivo do cancelamento: Endereço Errado, Total: 2362\n",
      "Motivo do cancelamento: Mudança de Planos, Total: 2353\n",
      "Motivo do cancelamento: Motorista não estava se dirigindo ao local de inicio, Total: 2335\n",
      "Motivo do cancelamento: Motorista pediu para cancelar, Total: 2295\n",
      "Motivo do cancelamento: Ar Condicionado Não Funcionando, Total: 1155\n"
     ]
    }
   ],
   "source": [
    "query = \"select motivoCancelamentoCliente, count(idCorrida) from corridas \\\n",
    "where motivoCancelamentoCliente is not null \\\n",
    "group by motivoCancelamentoCliente \\\n",
    "order by count(idCorrida) desc;\"\n",
    "cursor.execute(query)\n",
    "resultados = cursor.fetchall()\n",
    "for linha in resultados:\n",
    "    print(f\"Motivo do cancelamento: {linha[0]}, Total: {linha[1]}\")"
   ]
  },
  {
   "cell_type": "code",
   "execution_count": 28,
   "id": "61d7388b-794e-42f3-86f2-c801198d8d0f",
   "metadata": {},
   "outputs": [],
   "source": [
    "#Cancelamentos pelo Motorista"
   ]
  },
  {
   "cell_type": "code",
   "execution_count": 29,
   "id": "efb47a12-1b19-4f47-ba0f-883385cc71e3",
   "metadata": {},
   "outputs": [
    {
     "name": "stdout",
     "output_type": "stream",
     "text": [
      "Motivo do cancelamento: Problema com o cliente, Total: 6837\n",
      "Motivo do cancelamento: Cliente tossindo ou doente, Total: 6751\n",
      "Motivo do cancelamento: Problema pessoal ou relacionado ao carro, Total: 6726\n",
      "Motivo do cancelamento: Número de pessoas acima do permitido, Total: 6686\n"
     ]
    }
   ],
   "source": [
    "query = \"select motivoCancelamentoMotorista, count(idCorrida) from corridas \\\n",
    "where motivoCancelamentoMotorista is not null \\\n",
    "group by motivoCancelamentoMotorista \\\n",
    "order by count(idCorrida) desc;\"\n",
    "cursor.execute(query)\n",
    "resultados = cursor.fetchall()\n",
    "for linha in resultados:\n",
    "    print(f\"Motivo do cancelamento: {linha[0]}, Total: {linha[1]}\")"
   ]
  },
  {
   "cell_type": "code",
   "execution_count": 30,
   "id": "4f787ef2-fcae-4653-8686-1c09e91f502c",
   "metadata": {},
   "outputs": [],
   "source": [
    "#Tempo médio de Espera"
   ]
  },
  {
   "cell_type": "code",
   "execution_count": 31,
   "id": "e2a0542d-cbe6-4441-9dd4-b67c8912e1c2",
   "metadata": {},
   "outputs": [
    {
     "name": "stdout",
     "output_type": "stream",
     "text": [
      "Tempo médio de espera: 8.5067\n"
     ]
    }
   ],
   "source": [
    "query = \"select avg(tempoMedioEspera) from corridas;\"\n",
    "cursor.execute(query)\n",
    "resultados = cursor.fetchall()\n",
    "for linha in resultados:\n",
    "    print(f\"Tempo médio de espera: {linha[0]}\")"
   ]
  },
  {
   "cell_type": "code",
   "execution_count": 32,
   "id": "1305c080-a46f-414c-96c5-72e376696725",
   "metadata": {},
   "outputs": [],
   "source": [
    "#Tempo médio de Viagem"
   ]
  },
  {
   "cell_type": "code",
   "execution_count": 33,
   "id": "890592fa-6663-4667-b7e2-a19d2637dab6",
   "metadata": {},
   "outputs": [
    {
     "name": "stdout",
     "output_type": "stream",
     "text": [
      "Tempo médio de viagens: 29.2008\n"
     ]
    }
   ],
   "source": [
    "query = \"select avg(tempoMedioViagem) from corridas;\"\n",
    "cursor.execute(query)\n",
    "resultados = cursor.fetchall()\n",
    "for linha in resultados:\n",
    "    print(f\"Tempo médio de viagens: {linha[0]}\")"
   ]
  },
  {
   "cell_type": "code",
   "execution_count": 34,
   "id": "fa4bdb59-2f0c-4c73-9cfb-73cb6adf0b63",
   "metadata": {},
   "outputs": [],
   "source": [
    "cursor.close()\n",
    "conexao.close()"
   ]
  },
  {
   "cell_type": "code",
   "execution_count": 35,
   "id": "fbf09fd9-e003-499a-bbb8-6f9eedb49a95",
   "metadata": {},
   "outputs": [
    {
     "name": "stdout",
     "output_type": "stream",
     "text": [
      "Conexão Encerrada\n"
     ]
    }
   ],
   "source": [
    "print(\"Conexão Encerrada\")"
   ]
  }
 ],
 "metadata": {
  "kernelspec": {
   "display_name": "Python 3 (ipykernel)",
   "language": "python",
   "name": "python3"
  },
  "language_info": {
   "codemirror_mode": {
    "name": "ipython",
    "version": 3
   },
   "file_extension": ".py",
   "mimetype": "text/x-python",
   "name": "python",
   "nbconvert_exporter": "python",
   "pygments_lexer": "ipython3",
   "version": "3.12.4"
  }
 },
 "nbformat": 4,
 "nbformat_minor": 5
}
